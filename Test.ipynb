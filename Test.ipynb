{
 "cells": [
  {
   "cell_type": "code",
   "execution_count": 1,
   "metadata": {
    "collapsed": true
   },
   "outputs": [],
   "source": [
    "%matplotlib inline\n",
    "import matplotlib.pyplot as plt\n",
    "import numpy as np\n",
    "import scipy.io as sio\n",
    "\n",
    "import measurement\n",
    "import echo\n",
    "import distance\n",
    "import image"
   ]
  },
  {
   "cell_type": "code",
   "execution_count": 43,
   "metadata": {
    "collapsed": false
   },
   "outputs": [],
   "source": [
    "# choose dataset\n",
    "fname = 'datasets/set_3.mat'\n",
    "dataset = sio.loadmat(fname)"
   ]
  },
  {
   "cell_type": "code",
   "execution_count": 44,
   "metadata": {
    "collapsed": true
   },
   "outputs": [],
   "source": [
    "fs = float(dataset['fs'])\n",
    "M = int(dataset['M'])\n",
    "N = int(dataset['N'])\n",
    "h = float(dataset['h'])\n",
    "l = float(dataset['l'])\n",
    "w = float(dataset['w'])\n",
    "r = dataset['receivers']\n",
    "s = dataset['sources']\n",
    "data = dataset['data'].T\n",
    "c = float(dataset['c'])\n",
    "\n",
    "maxsize = np.sqrt(w**2+l**2+h**2) #m\n",
    "max_delay = maxsize / float(c) \n",
    "maxlength = int(2 * max_delay * fs)\n",
    "\n",
    "measurements  = [measurement.MeasurementData(data=np.hstack(source_data).T, \n",
    "                                 receivers=r, \n",
    "                                 sources=s[i], \n",
    "                                 room_dimensions=(w,l,h), \n",
    "                                 c=c, \n",
    "                                 fs=fs) \n",
    "                 for i,source_data in enumerate(data)]"
   ]
  },
  {
   "cell_type": "code",
   "execution_count": 45,
   "metadata": {
    "collapsed": true
   },
   "outputs": [],
   "source": [
    "echo_data = [echo.EchoData(m.find_echoes(crop=maxlength, interpolate=10)) for m in measurements]"
   ]
  },
  {
   "cell_type": "code",
   "execution_count": 47,
   "metadata": {
    "collapsed": false
   },
   "outputs": [
    {
     "name": "stdout",
     "output_type": "stream",
     "text": [
      "Finding echo_set candidates per measurement ...\n",
      "prefilter threshold: 0.0005\n",
      "Number of unique sets of 6 echo_sets: 1\n",
      "Finding echo_set candidates per measurement ...\n",
      "prefilter threshold: 0.0005\n",
      "prefilter threshold: 0.001\n",
      "prefilter threshold: 0.002\n",
      "prefilter threshold: 0.004\n",
      "Number of unique sets of 6 echo_sets: 0\n",
      "Finding echo_set candidates per measurement ...\n",
      "prefilter threshold: 0.0005\n",
      "Number of unique sets of 6 echo_sets: 1\n",
      "Finding echo_set candidates per measurement ...\n",
      "prefilter threshold: 0.0005\n",
      "Number of unique sets of 6 echo_sets: 1\n",
      "Finding echo_set candidates per measurement ...\n",
      "prefilter threshold: 0.0005\n",
      "Number of unique sets of 6 echo_sets: 1\n",
      "Finding echo_set candidates per measurement ...\n",
      "prefilter threshold: 0.0005\n",
      "prefilter threshold: 0.001\n",
      "Number of unique sets of 6 echo_sets: 1\n"
     ]
    }
   ],
   "source": [
    "D = measurement.squared_distance_matrix(r, augmented=True)\n",
    "S, E = zip(*[e.find_labels(D,threshold=0.0005, parallel=True, verbose=True) for e in echo_data[:6]])\n",
    "E = [e for e in E if len(e) > 0]\n",
    "S = np.vstack(S)"
   ]
  },
  {
   "cell_type": "code",
   "execution_count": 48,
   "metadata": {
    "collapsed": true
   },
   "outputs": [],
   "source": [
    "distancedata = distance.DistanceData(S,E)\n",
    "results = distancedata.find_images(r)"
   ]
  },
  {
   "cell_type": "code",
   "execution_count": 49,
   "metadata": {
    "collapsed": false
   },
   "outputs": [
    {
     "data": {
      "image/png": "[encoded data removed]",
      "text/plain": [
       "<matplotlib.figure.Figure at 0x11087cfd0>"
      ]
     },
     "metadata": {},
     "output_type": "display_data"
    }
   ],
   "source": [
    "if len(results) > 0:\n",
    "    imagedata = image.ImageSourceData(results, 6, r, (w,l,h))\n",
    "    wall_points,vertices = imagedata.find_walls(threshold=0.05, bestN=10)\n",
    "    im = np.vstack(imagedata.images)\n",
    "    plt.scatter(im[:,0], im[:,1])\n",
    "    wp = np.vstack(wall_points)\n",
    "    plt.scatter(wp[:,0], wp[:,1], color=(1,0,0,1))\n",
    "    plt.scatter(vertices[:,0], vertices[:,1], color=(0,1,0,1))"
   ]
  },
  {
   "cell_type": "code",
   "execution_count": null,
   "metadata": {
    "collapsed": true
   },
   "outputs": [],
   "source": []
  }
 ],
 "metadata": {
  "kernelspec": {
   "display_name": "Python 3",
   "language": "python",
   "name": "python3"
  },
  "language_info": {
   "codemirror_mode": {
    "name": "ipython",
    "version": 3
   },
   "file_extension": ".py",
   "mimetype": "text/x-python",
   "name": "python",
   "nbconvert_exporter": "python",
   "pygments_lexer": "ipython3",
   "version": "3.4.3"
  }
 },
 "nbformat": 4,
 "nbformat_minor": 0
}
