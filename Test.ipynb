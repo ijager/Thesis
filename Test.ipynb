{
 "cells": [
  {
   "cell_type": "code",
   "execution_count": 2,
   "metadata": {
    "collapsed": false
   },
   "outputs": [
    {
     "name": "stdout",
     "output_type": "stream",
     "text": [
      "Using matplotlib backend: MacOSX\n"
     ]
    }
   ],
   "source": [
    "%matplotlib \n",
    "import matplotlib.pyplot as plt\n",
    "import numpy as np\n",
    "import scipy.io as sio\n",
    "\n",
    "import measurement\n",
    "import echo\n",
    "import distance\n",
    "import image"
   ]
  },
  {
   "cell_type": "code",
   "execution_count": 2,
   "metadata": {
    "collapsed": false
   },
   "outputs": [],
   "source": [
    "# choose dataset\n",
    "fname = 'datasets/set_fs_32000_1.mat'\n",
    "dataset = sio.loadmat(fname)"
   ]
  },
  {
   "cell_type": "code",
   "execution_count": 9,
   "metadata": {
    "collapsed": true
   },
   "outputs": [],
   "source": [
    "fs = float(dataset['fs'])\n",
    "M = int(dataset['M'])\n",
    "N = int(dataset['N'])\n",
    "h = float(dataset['h'])\n",
    "l = float(dataset['l'])\n",
    "w = float(dataset['w'])\n",
    "r = dataset['receivers']\n",
    "s = dataset['sources']\n",
    "data = dataset['data'].T\n",
    "c = float(dataset['c'])\n",
    "\n",
    "maxsize = np.sqrt(w**2+l**2+h**2) #m\n",
    "max_delay = maxsize / float(c) \n",
    "maxlength = int(2 * max_delay * fs)\n",
    "room = np.array([[ [0,0], [0,l], [w,l], [w,0]]])\n",
    "measurements  = [measurement.MeasurementData(data=np.hstack(source_data).T, \n",
    "                                 receivers=r, \n",
    "                                 sources=s[i], \n",
    "                                 room_dimensions=(w,l,h), \n",
    "                                 c=c, \n",
    "                                 fs=fs) \n",
    "                 for i,source_data in enumerate(data)]"
   ]
  },
  {
   "cell_type": "code",
   "execution_count": 10,
   "metadata": {
    "collapsed": false
   },
   "outputs": [],
   "source": [
    "echo_data = [echo.EchoData(m.find_echoes(crop=maxlength, interpolate=10)) for m in measurements]"
   ]
  },
  {
   "cell_type": "code",
   "execution_count": 11,
   "metadata": {
    "collapsed": false
   },
   "outputs": [
    {
     "name": "stdout",
     "output_type": "stream",
     "text": [
      "Finding echo_set candidates per measurement ...\n",
      "prefilter threshold: 0.005\n",
      "Ci: 61\n",
      "prefilter threshold: 0.01\n",
      "Ci: 133\n",
      "prefilter threshold: 0.02\n",
      "Number of unique sets of 6 echo_sets: 0\n",
      "Finding echo_set candidates per measurement ...\n",
      "prefilter threshold: 0.005\n",
      "Ci: 33\n",
      "Number of unique sets of 6 echo_sets: 2\n",
      "Finding echo_set candidates per measurement ...\n",
      "prefilter threshold: 0.005\n",
      "Ci: 49\n",
      "prefilter threshold: 0.01\n",
      "Ci: 90\n",
      "prefilter threshold: 0.02\n",
      "Ci: 189\n",
      "prefilter threshold: 0.04\n",
      "Number of unique sets of 6 echo_sets: 0\n",
      "Finding echo_set candidates per measurement ...\n",
      "prefilter threshold: 0.005\n",
      "Ci: 48\n",
      "Number of unique sets of 6 echo_sets: 12\n",
      "Finding echo_set candidates per measurement ...\n",
      "prefilter threshold: 0.005\n",
      "Ci: 40\n",
      "Number of unique sets of 6 echo_sets: 2\n",
      "Finding echo_set candidates per measurement ...\n",
      "prefilter threshold: 0.005\n",
      "Ci: 44\n",
      "prefilter threshold: 0.01\n",
      "Ci: 94\n",
      "prefilter threshold: 0.02\n",
      "Ci: 169\n",
      "prefilter threshold: 0.04\n",
      "Number of unique sets of 6 echo_sets: 0\n",
      "Finding echo_set candidates per measurement ...\n",
      "prefilter threshold: 0.005\n",
      "Ci: 42\n",
      "Number of unique sets of 6 echo_sets: 1\n",
      "Finding echo_set candidates per measurement ...\n",
      "prefilter threshold: 0.005\n",
      "Ci: 41\n",
      "Number of unique sets of 6 echo_sets: 1\n"
     ]
    }
   ],
   "source": [
    "D = measurement.squared_distance_matrix(r, augmented=True)\n",
    "N = 8\n",
    "S, E = zip(*[e.find_labels(D,threshold=0.005, parallel=True, verbose=True) for e in echo_data[:N]])\n",
    "E = [e for e in E if len(e) > 0]\n",
    "S = np.vstack(S)"
   ]
  },
  {
   "cell_type": "code",
   "execution_count": 16,
   "metadata": {
    "collapsed": false
   },
   "outputs": [
    {
     "name": "stdout",
     "output_type": "stream",
     "text": [
      "[0.053463855177171234, 0.061766397307052225, 0.076615913700704308, 0.085669533446870977, 0.10149450881011561, 0.10941304712214361, 0.11033210020027578, 0.12364100395173785, 0.13741942095240697, 0.14866385570144316]\n"
     ]
    }
   ],
   "source": [
    "distancedata = distance.DistanceData(S,E)\n",
    "results = distancedata.find_images(r)\n",
    "print(sorted(results.keys())[0:10])"
   ]
  },
  {
   "cell_type": "code",
   "execution_count": 17,
   "metadata": {
    "collapsed": false
   },
   "outputs": [
    {
     "data": {
      "image/png": "[encoded data removed]",
      "text/plain": [
       "<matplotlib.figure.Figure at 0x10d8aa0f0>"
      ]
     },
     "metadata": {},
     "output_type": "display_data"
    }
   ],
   "source": [
    "if len(results) > 0:\n",
    "    imagedata = image.ImageSourceData(results, N, r, (w,l,h))\n",
    "    wall_points,vertices = imagedata.find_walls(threshold=0.1, bestN=10)\n",
    "    if len(vertices) == 4:\n",
    "        im = np.vstack(imagedata.images)\n",
    "        plt.scatter(im[:,0], im[:,1])\n",
    "        wp = np.vstack(wall_points)\n",
    "        plt.scatter(wp[:,0], wp[:,1], color=(1,0,0,1))\n",
    "        plt.scatter(vertices[:,0], vertices[:,1], color=(0,1,0,1))"
   ]
  },
  {
   "cell_type": "markdown",
   "metadata": {
    "collapsed": true
   },
   "source": [
    "# Room size experiment"
   ]
  },
  {
   "cell_type": "code",
   "execution_count": 41,
   "metadata": {
    "collapsed": false
   },
   "outputs": [],
   "source": [
    "results = np.load('results_dictionary.npy')"
   ]
  },
  {
   "cell_type": "code",
   "execution_count": 42,
   "metadata": {
    "collapsed": false
   },
   "outputs": [
    {
     "data": {
      "text/plain": [
       "array(defaultdict(<class 'list'>, {96000.0: [0.16480485099318642, 0.009548104984421794, 0.097985934634942873, 0.05294248232883858]}), dtype=object)"
      ]
     },
     "execution_count": 42,
     "metadata": {},
     "output_type": "execute_result"
    }
   ],
   "source": [
    "results"
   ]
  },
  {
   "cell_type": "code",
   "execution_count": 43,
   "metadata": {
    "collapsed": false
   },
   "outputs": [
    {
     "data": {
      "text/plain": [
       "numpy.ndarray"
      ]
     },
     "execution_count": 43,
     "metadata": {},
     "output_type": "execute_result"
    }
   ],
   "source": [
    "type(results)"
   ]
  },
  {
   "cell_type": "code",
   "execution_count": 44,
   "metadata": {
    "collapsed": false
   },
   "outputs": [
    {
     "ename": "TypeError",
     "evalue": "len() of unsized object",
     "output_type": "error",
     "traceback": [
      "\u001b[0;31m---------------------------------------------------------------------------\u001b[0m",
      "\u001b[0;31mTypeError\u001b[0m                                 Traceback (most recent call last)",
      "\u001b[0;32m<ipython-input-44-391947dba58b>\u001b[0m in \u001b[0;36m<module>\u001b[0;34m()\u001b[0m\n\u001b[0;32m----> 1\u001b[0;31m \u001b[0mlen\u001b[0m\u001b[0;34m(\u001b[0m\u001b[0mresults\u001b[0m\u001b[0;34m)\u001b[0m\u001b[0;34m\u001b[0m\u001b[0m\n\u001b[0m",
      "\u001b[0;31mTypeError\u001b[0m: len() of unsized object"
     ]
    }
   ],
   "source": [
    "len(results)"
   ]
  },
  {
   "cell_type": "code",
   "execution_count": 36,
   "metadata": {
    "collapsed": false
   },
   "outputs": [
    {
     "ename": "TypeError",
     "evalue": "first argument must be callable",
     "output_type": "error",
     "traceback": [
      "\u001b[0;31m---------------------------------------------------------------------------\u001b[0m",
      "\u001b[0;31mTypeError\u001b[0m                                 Traceback (most recent call last)",
      "\u001b[0;32m<ipython-input-36-96606c5464e3>\u001b[0m in \u001b[0;36m<module>\u001b[0;34m()\u001b[0m\n\u001b[0;32m----> 1\u001b[0;31m \u001b[0mcollections\u001b[0m\u001b[0;34m.\u001b[0m\u001b[0mdefaultdict\u001b[0m\u001b[0;34m(\u001b[0m\u001b[0mresults\u001b[0m\u001b[0;34m)\u001b[0m\u001b[0;34m\u001b[0m\u001b[0m\n\u001b[0m",
      "\u001b[0;31mTypeError\u001b[0m: first argument must be callable"
     ]
    }
   ],
   "source": [
    "collections.defaultdict(results)"
   ]
  },
  {
   "cell_type": "code",
   "execution_count": 3,
   "metadata": {
    "collapsed": true
   },
   "outputs": [],
   "source": [
    "import collections"
   ]
  },
  {
   "cell_type": "code",
   "execution_count": 4,
   "metadata": {
    "collapsed": true
   },
   "outputs": [],
   "source": [
    "import pickle"
   ]
  },
  {
   "cell_type": "code",
   "execution_count": 88,
   "metadata": {
    "collapsed": false
   },
   "outputs": [
    {
     "data": {
      "text/plain": [
       "[<matplotlib.lines.Line2D at 0x10e7cd898>]"
      ]
     },
     "execution_count": 88,
     "metadata": {},
     "output_type": "execute_result"
    },
    {
     "data": {
      "image/png": "[encoded data removed]",
      "text/plain": [
       "<matplotlib.figure.Figure at 0x10da53710>"
      ]
     },
     "metadata": {},
     "output_type": "display_data"
    }
   ],
   "source": [
    "y = []\n",
    "x = []\n",
    "with open('fs_1x_results', 'rb') as f:\n",
    "    results = pickle.load(f)\n",
    "for k in sorted(results.keys()):\n",
    "    if k < 40000:\n",
    "        x.append(k)\n",
    "        y.append(np.mean(results[k]))\n",
    "\n",
    "\n",
    "with open('fs_mc_1x_results', 'rb') as f:\n",
    "    results = pickle.load(f)\n",
    "for k in sorted(results.keys()):\n",
    "    if k > 40000:\n",
    "        x.append(k)\n",
    "        y.append(np.mean(results[k]))\n",
    "\n",
    "plt.plot(x, y)"
   ]
  },
  {
   "cell_type": "code",
   "execution_count": 87,
   "metadata": {
    "collapsed": false
   },
   "outputs": [
    {
     "data": {
      "text/plain": [
       "[<matplotlib.lines.Line2D at 0x10d7128d0>]"
      ]
     },
     "execution_count": 87,
     "metadata": {},
     "output_type": "execute_result"
    },
    {
     "data": {
      "image/png": "[encoded data removed]",
      "text/plain": [
       "<matplotlib.figure.Figure at 0x10dbbfef0>"
      ]
     },
     "metadata": {},
     "output_type": "display_data"
    }
   ],
   "source": [
    "y = []\n",
    "x = []\n",
    "with open('fs_10x_results', 'rb') as f:\n",
    "    results = pickle.load(f)\n",
    "for k in sorted(results.keys()):\n",
    "    if k < 40000:\n",
    "        x.append(k)\n",
    "        y.append(np.mean(results[k]))\n",
    "\n",
    "\n",
    "with open('fs_mc_10x_results', 'rb') as f:\n",
    "    results = pickle.load(f)\n",
    "for k in sorted(results.keys()):\n",
    "    if k > 40000:\n",
    "        x.append(k)\n",
    "        y.append(np.mean(results[k]))\n",
    "\n",
    "plt.plot(x, y)"
   ]
  },
  {
   "cell_type": "code",
   "execution_count": 113,
   "metadata": {
    "collapsed": false
   },
   "outputs": [],
   "source": [
    "def plot_fs(ax, d1, d2, label=None, color=None):\n",
    "    y = []\n",
    "    x = []\n",
    "    with open(d1, 'rb') as f:\n",
    "        results = pickle.load(f)\n",
    "    for k in sorted(results.keys()):\n",
    "        if k < 40000:\n",
    "            x.append(k)\n",
    "            y.append(np.mean(results[k]))\n",
    "\n",
    "\n",
    "    with open(d2, 'rb') as f:\n",
    "        results = pickle.load(f)\n",
    "    for k in sorted(results.keys()):\n",
    "        if k > 40000:\n",
    "            x.append(k)\n",
    "            y.append(np.mean(results[k]))\n",
    "\n",
    "    ax.plot(x, y, 'o-', linewidth=2, label=label, color=color)\n",
    "    plt.legend(loc='best')"
   ]
  },
  {
   "cell_type": "code",
   "execution_count": 130,
   "metadata": {
    "collapsed": false
   },
   "outputs": [],
   "source": [
    "fig = plt.figure()\n",
    "ax = fig.gca()\n",
    "plot_fs(ax, 'fs_1x_results', 'fs_mc_1x_results', color=tudelft_cyan, label=\"No upsampling\")\n",
    "plot_fs(ax, 'fs_10x_results', 'fs_mc_10x_results', color=tudelft_orange, label=\"10x upsampling\")\n",
    "plot_fs(ax, 'fs_100x_results', 'fs_mc_100x_results', color=tudelft_purple, label=\"100x upsampling\")\n",
    "plt.xlabel('Sample Frequency [Hz]')\n",
    "plt.ylabel('Room estimation error [m]')\n",
    "plt.grid('on')\n",
    "plt.xticks((16000, 32000, 48000, 96000, 2*96000), ('16k', '32k', '48k', '96k', '192k'), color=tudelft_black)\n",
    "plt.show()"
   ]
  },
  {
   "cell_type": "code",
   "execution_count": 126,
   "metadata": {
    "collapsed": false
   },
   "outputs": [
    {
     "name": "stdout",
     "output_type": "stream",
     "text": [
      "Help on function xticks in module matplotlib.pyplot:\n",
      "\n",
      "xticks(*args, **kwargs)\n",
      "    Get or set the *x*-limits of the current tick locations and labels.\n",
      "    \n",
      "    ::\n",
      "    \n",
      "      # return locs, labels where locs is an array of tick locations and\n",
      "      # labels is an array of tick labels.\n",
      "      locs, labels = xticks()\n",
      "    \n",
      "      # set the locations of the xticks\n",
      "      xticks( arange(6) )\n",
      "    \n",
      "      # set the locations and labels of the xticks\n",
      "      xticks( arange(5), ('Tom', 'Dick', 'Harry', 'Sally', 'Sue') )\n",
      "    \n",
      "    The keyword args, if any, are :class:`~matplotlib.text.Text`\n",
      "    properties. For example, to rotate long labels::\n",
      "    \n",
      "      xticks( arange(12), calendar.month_name[1:13], rotation=17 )\n",
      "\n"
     ]
    }
   ],
   "source": [
    "help(plt.xticks)"
   ]
  },
  {
   "cell_type": "code",
   "execution_count": 28,
   "metadata": {
    "collapsed": true
   },
   "outputs": [],
   "source": [
    "from matplotlib.colors import ColorConverter\n",
    "\n",
    "cc = ColorConverter()\n",
    "\n",
    "# colors\n",
    "tudelft_cyan = cc.to_rgba(\"#00ADEF\")\n",
    "tudelft_black = cc.to_rgba(\"#231F20\")\n",
    "tudelft_white = cc.to_rgba(\"#FFFFFF\")\n",
    "tudelft_sea_green = cc.to_rgba(\"#70C8BB\")\n",
    "tudelft_green = cc.to_rgba(\"#0097A1\")\n",
    "tudelft_dark_blue = cc.to_rgba(\"#1B1464\")\n",
    "tudelft_purple = cc.to_rgba(\"#211869\")\n",
    "tudelft_turquoise = cc.to_rgba(\"#00A9BD\")\n",
    "tudelft_sky_blue = cc.to_rgba(\"#7AC6DC\")\n",
    "tudelft_lavender = cc.to_rgba(\"#7FA7D0\")\n",
    "tudelft_orange = cc.to_rgba(\"#F0883F\"   )\n",
    "tudelft_warm_purple = cc.to_rgba(\"#80268C\")\n",
    "tudelft_fuchsia = cc.to_rgba(\"#A70576\")\n",
    "tudelft_bright_green = cc.to_rgba(\"#AFD135\")\n",
    "tudelft_yellow = cc.to_rgba(\"#FDF391\")"
   ]
  },
  {
   "cell_type": "code",
   "execution_count": 309,
   "metadata": {
    "collapsed": false
   },
   "outputs": [
    {
     "name": "stdout",
     "output_type": "stream",
     "text": [
      "122.5 23 0.46\n",
      "196.0 26 0.52\n",
      "125.0 36 0.72\n",
      "150.0 41 0.82\n",
      "180.0 42 0.84\n",
      "210.0 42 0.84\n",
      "245.0 41 0.82\n",
      "280.0 25 0.5\n",
      "320.0 43 0.86\n",
      "405.0 42 0.84\n",
      "500.0 44 0.88\n",
      "400.0 44 0.88\n"
     ]
    }
   ],
   "source": [
    "#'N5_w5l7h3.5', 'N5_w8l7h3.5', \n",
    "#          'N5_w9l10h5', 'N5_w11l13h5', 'N5_w9l8h5', 'N5_w19l18h9', \n",
    "#         'N5_w15l15h6_', \n",
    "\n",
    "files = ['N5_w5l7h3.5', 'N5_w8l7h3.5', 'N5_w5l5h5', 'N5_w6l5h5', 'N5_w6l6h5', 'N5_w7l6h5', 'N5_w7l7h5', \n",
    "         'N5_w8l7h5', 'N5_w8l8h5', 'N5_w9l9h5', 'N5_w10l10h5', 'N5_w8l10h5'] #, 'N5_w8l7h5', 'N5_w9l8h5', 'N5_w9l10h5', 'N5_w11l13h5']\n",
    "\n",
    "x = []\n",
    "y = []\n",
    "z = []\n",
    "for file in files:\n",
    "    with open(file, 'rb') as f:\n",
    "        results = pickle.load(f)\n",
    "    volume = sorted(results.keys())[0]\n",
    "    results = results[volume]\n",
    "    errors, times = zip(*results)\n",
    "    print(volume,len(errors), len(errors)/50)\n",
    "    y.append(np.array(errors))\n",
    "    x.append(volume)\n",
    "    z.append(np.array(times))\n",
    "    \n",
    "#i = np.argsort(x)\n",
    "#x = np.array(x)[i]\n",
    "#y = np.array(y)[i]\n",
    "#z = np.array(z)[i]\n",
    "x = np.array(x)\n",
    "y = np.hstack(y)\n",
    "z = np.hstack(z)\n",
    "\n"
   ]
  },
  {
   "cell_type": "code",
   "execution_count": 312,
   "metadata": {
    "collapsed": false
   },
   "outputs": [
    {
     "data": {
      "text/plain": [
       "0.802"
      ]
     },
     "execution_count": 312,
     "metadata": {},
     "output_type": "execute_result"
    }
   ],
   "source": [
    "(len(y)-23-25)/500"
   ]
  },
  {
   "cell_type": "code",
   "execution_count": 292,
   "metadata": {
    "collapsed": false
   },
   "outputs": [
    {
     "data": {
      "text/plain": [
       "0.023588281197365963"
      ]
     },
     "execution_count": 292,
     "metadata": {},
     "output_type": "execute_result"
    }
   ],
   "source": [
    "np.mean(y)"
   ]
  },
  {
   "cell_type": "code",
   "execution_count": 302,
   "metadata": {
    "collapsed": false
   },
   "outputs": [
    {
     "data": {
      "text/plain": [
       "0.047074419706524331"
      ]
     },
     "execution_count": 302,
     "metadata": {},
     "output_type": "execute_result"
    }
   ],
   "source": [
    "np.sqrt(np.var(y))"
   ]
  },
  {
   "cell_type": "code",
   "execution_count": 295,
   "metadata": {
    "collapsed": false
   },
   "outputs": [
    {
     "data": {
      "text/plain": [
       "0.0010762506008891309"
      ]
     },
     "execution_count": 295,
     "metadata": {},
     "output_type": "execute_result"
    }
   ],
   "source": [
    "np.min(y)"
   ]
  },
  {
   "cell_type": "code",
   "execution_count": 299,
   "metadata": {
    "collapsed": false
   },
   "outputs": [
    {
     "data": {
      "text/plain": [
       "2.4253816737364025"
      ]
     },
     "execution_count": 299,
     "metadata": {},
     "output_type": "execute_result"
    }
   ],
   "source": [
    "np.mean(z)"
   ]
  },
  {
   "cell_type": "code",
   "execution_count": 300,
   "metadata": {
    "collapsed": false
   },
   "outputs": [
    {
     "data": {
      "text/plain": [
       "0.5143139991546718"
      ]
     },
     "execution_count": 300,
     "metadata": {},
     "output_type": "execute_result"
    }
   ],
   "source": [
    "np.var(z)"
   ]
  },
  {
   "cell_type": "code",
   "execution_count": 301,
   "metadata": {
    "collapsed": false
   },
   "outputs": [
    {
     "data": {
      "text/plain": [
       "1.3486261367797852"
      ]
     },
     "execution_count": 301,
     "metadata": {},
     "output_type": "execute_result"
    }
   ],
   "source": [
    "np.min(z)"
   ]
  },
  {
   "cell_type": "code",
   "execution_count": 53,
   "metadata": {
    "collapsed": false
   },
   "outputs": [],
   "source": [
    "with open('N_2-16', 'rb') as f:\n",
    "    results = pickle.load(f)\n",
    "NN = sorted(results.keys())\n",
    "mean_err = []\n",
    "mean_time = []\n",
    "for N in NN:\n",
    "    res = results[N]  \n",
    "    errors, times = zip(*res)\n",
    "    mean_err.append(np.mean(errors))\n",
    "    mean_time.append(np.mean(times))"
   ]
  },
  {
   "cell_type": "code",
   "execution_count": 54,
   "metadata": {
    "collapsed": false
   },
   "outputs": [],
   "source": [
    "plt.figure(1)\n",
    "plt.plot(NN, mean_err/mean_err[0], 'o-', linewidth=2, color=tudelft_cyan)\n",
    "plt.grid('on')"
   ]
  },
  {
   "cell_type": "code",
   "execution_count": 55,
   "metadata": {
    "collapsed": true
   },
   "outputs": [],
   "source": [
    "plt.figure(2)\n",
    "plt.plot(NN, mean_time, 'o-', linewidth=2, color=tudelft_orange)\n",
    "plt.grid('on')"
   ]
  },
  {
   "cell_type": "code",
   "execution_count": 48,
   "metadata": {
    "collapsed": true
   },
   "outputs": [],
   "source": [
    "with open('N_2-16-1', 'rb') as f:\n",
    "    results = pickle.load(f)\n",
    "NN = sorted(results.keys())\n",
    "mean_err = []\n",
    "mean_time = []\n",
    "for N in NN:\n",
    "    res = results[N]  \n",
    "    errors, times = zip(*res)\n",
    "    mean_err.append(np.mean(errors))\n",
    "    mean_time.append(np.mean(times))"
   ]
  },
  {
   "cell_type": "code",
   "execution_count": null,
   "metadata": {
    "collapsed": true
   },
   "outputs": [],
   "source": []
  }
 ],
 "metadata": {
  "kernelspec": {
   "display_name": "Python 3",
   "language": "python",
   "name": "python3"
  },
  "language_info": {
   "codemirror_mode": {
    "name": "ipython",
    "version": 3
   },
   "file_extension": ".py",
   "mimetype": "text/x-python",
   "name": "python",
   "nbconvert_exporter": "python",
   "pygments_lexer": "ipython3",
   "version": "3.4.3"
  }
 },
 "nbformat": 4,
 "nbformat_minor": 0
}
